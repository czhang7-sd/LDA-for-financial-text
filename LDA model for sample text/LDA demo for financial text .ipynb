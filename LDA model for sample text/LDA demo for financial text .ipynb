{
 "cells": [
  {
   "cell_type": "code",
   "execution_count": 1,
   "metadata": {},
   "outputs": [],
   "source": [
    "import spacy\n",
    "import numpy as np\n",
    "import pandas as pd\n",
    "from sklearn.feature_extraction.text import TfidfVectorizer\n",
    "from sklearn.decomposition import LatentDirichletAllocation"
   ]
  },
  {
   "cell_type": "code",
   "execution_count": 2,
   "metadata": {},
   "outputs": [],
   "source": [
    "nlp = spacy.load('en')\n",
    "DOC_PATH = './data/2011_Q2.txt'"
   ]
  },
  {
   "cell_type": "code",
   "execution_count": 3,
   "metadata": {},
   "outputs": [],
   "source": [
    "def load_sentense(path):\n",
    "    \"\"\"\n",
    "        load the paragraph and tokenize to sentences\n",
    "    \"\"\"\n",
    "    print(\"Loading the text...\")\n",
    "    res = []\n",
    "    with open(path, 'r') as f:\n",
    "        for line in f:\n",
    "            sentences = nlp(line).sents\n",
    "            for sentence in sentences:\n",
    "                res.append(sentence.string.strip())\n",
    "    print(\"Text loading successfully...\")\n",
    "    return res"
   ]
  },
  {
   "cell_type": "code",
   "execution_count": 4,
   "metadata": {},
   "outputs": [
    {
     "name": "stdout",
     "output_type": "stream",
     "text": [
      "Loading the text...\n",
      "Text loading successfully...\n"
     ]
    }
   ],
   "source": [
    "text = load_sentense(DOC_PATH)"
   ]
  },
  {
   "cell_type": "code",
   "execution_count": 5,
   "metadata": {},
   "outputs": [],
   "source": [
    "def tfidf_processing(sentenses):\n",
    "    sent = [s for s in sentenses if len(s.split()) > 5]  # choose meaning sentence\n",
    "\n",
    "    print( \"TFIDF calculation...\")\n",
    "    tf_vectorizer = TfidfVectorizer(max_features=200, min_df=2, max_df=.5, stop_words='english', ngram_range=(1, 3)) \n",
    "    tfidf_sent = tf_vectorizer.fit_transform(sent)\n",
    "    print( \"TFIDF is done...\")\n",
    "    \n",
    "    return tf_vectorizer, tfidf_sent"
   ]
  },
  {
   "cell_type": "code",
   "execution_count": 6,
   "metadata": {},
   "outputs": [
    {
     "name": "stdout",
     "output_type": "stream",
     "text": [
      "TFIDF calculation...\n"
     ]
    },
    {
     "name": "stderr",
     "output_type": "stream",
     "text": [
      "c:\\python35\\lib\\site-packages\\sklearn\\feature_extraction\\text.py:1089: FutureWarning: Conversion of the second argument of issubdtype from `float` to `np.floating` is deprecated. In future, it will be treated as `np.float64 == np.dtype(float).type`.\n",
      "  if hasattr(X, 'dtype') and np.issubdtype(X.dtype, np.float):\n"
     ]
    },
    {
     "name": "stdout",
     "output_type": "stream",
     "text": [
      "TFIDF is done...\n"
     ]
    }
   ],
   "source": [
    "tf_vectorizer, tfidf_sent = tfidf_processing(text)"
   ]
  },
  {
   "cell_type": "code",
   "execution_count": 7,
   "metadata": {},
   "outputs": [],
   "source": [
    "def lda_model_training(tfidf, topic_num=5):\n",
    "    \"\"\"\n",
    "        train the LDA model\n",
    "        topic is chosed as 5\n",
    "    \"\"\"\n",
    "    print(\"LDA training...\")\n",
    "    lda = LatentDirichletAllocation(n_topics=topic_num, max_iter=5, random_state=7).fit(tfidf)   \n",
    "    print(\"LDA has been trained...\")\n",
    "    return lda"
   ]
  },
  {
   "cell_type": "code",
   "execution_count": 8,
   "metadata": {},
   "outputs": [
    {
     "name": "stdout",
     "output_type": "stream",
     "text": [
      "LDA training...\n"
     ]
    },
    {
     "name": "stderr",
     "output_type": "stream",
     "text": [
      "c:\\python35\\lib\\site-packages\\sklearn\\decomposition\\online_lda.py:294: DeprecationWarning: n_topics has been renamed to n_components in version 0.19 and will be removed in 0.21\n",
      "  DeprecationWarning)\n",
      "c:\\python35\\lib\\site-packages\\sklearn\\decomposition\\online_lda.py:532: DeprecationWarning: The default value for 'learning_method' will be changed from 'online' to 'batch' in the release 0.20. This warning was introduced in 0.18.\n",
      "  DeprecationWarning)\n"
     ]
    },
    {
     "name": "stdout",
     "output_type": "stream",
     "text": [
      "LDA has been trained...\n"
     ]
    }
   ],
   "source": [
    "lda = lda_model_training(tfidf_sent)\n",
    "tf_feature_names = tf_vectorizer.get_feature_names()"
   ]
  },
  {
   "cell_type": "code",
   "execution_count": 9,
   "metadata": {},
   "outputs": [],
   "source": [
    "def print_top_words(model, feature_names, n_top_words):\n",
    "    \"\"\"\n",
    "        show the topic and related words\n",
    "    \"\"\"\n",
    "    for topic_idx,topic in enumerate(model.components_):\n",
    "        print(\"Topic #%d:\"%topic_idx)\n",
    "        print(\" \".join([feature_names[i] for i in topic.argsort()[:-n_top_words-1:-1]]), '\\n')"
   ]
  },
  {
   "cell_type": "code",
   "execution_count": 10,
   "metadata": {},
   "outputs": [
    {
     "name": "stdout",
     "output_type": "stream",
     "text": [
      "Topic #0:\n",
      "mean paper say right good really better little ph market pipeline like kind probably yields said indiscernible big note guidance \n",
      "\n",
      "Topic #1:\n",
      "year earnings rate ve lending quarter core book kind continue roe core earnings short years fixed second environment hard second quarter rates \n",
      "\n",
      "Topic #2:\n",
      "going loans forward business going forward portfolio look did coming special lnr gaap opportunities single single family family income financial team servicing \n",
      "\n",
      "Topic #3:\n",
      "think don ll like ve want maybe just market value question guys term long rates doing shareholders don want 25 talk \n",
      "\n",
      "Topic #4:\n",
      "quarter company price million 100 servicer additional basis lnr purchase special largest purchase price financial scale acquisition actually basis points value points \n",
      "\n"
     ]
    }
   ],
   "source": [
    "N_WORDS = 20\n",
    "print_top_words(lda, tf_feature_names, N_WORDS)"
   ]
  },
  {
   "cell_type": "code",
   "execution_count": null,
   "metadata": {},
   "outputs": [],
   "source": []
  }
 ],
 "metadata": {
  "kernelspec": {
   "display_name": "Python 3",
   "language": "python",
   "name": "python3"
  },
  "language_info": {
   "codemirror_mode": {
    "name": "ipython",
    "version": 3
   },
   "file_extension": ".py",
   "mimetype": "text/x-python",
   "name": "python",
   "nbconvert_exporter": "python",
   "pygments_lexer": "ipython3",
   "version": "3.5.2"
  }
 },
 "nbformat": 4,
 "nbformat_minor": 2
}
